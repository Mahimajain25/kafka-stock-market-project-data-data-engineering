{
 "cells": [
  {
   "cell_type": "code",
   "execution_count": null,
   "metadata": {},
   "outputs": [],
   "source": [
    "#pip install kafka-python"
   ]
  },
  {
   "cell_type": "code",
   "execution_count": 30,
   "metadata": {},
   "outputs": [],
   "source": [
    "import pandas as pd \n",
    "from kafka import KafkaProducer\n",
    "from time import sleep\n",
    "from json import dumps\n",
    "import json"
   ]
  },
  {
   "cell_type": "code",
   "execution_count": 31,
   "metadata": {},
   "outputs": [],
   "source": [
    "producer = KafkaProducer(\n",
    "    bootstrap_servers = ['15.206.203.162:9092'], #public ipv4 \n",
    "    value_serializer = lambda x : dumps(x).encode('utf-8')\n",
    ")"
   ]
  },
  {
   "cell_type": "code",
   "execution_count": 13,
   "metadata": {},
   "outputs": [
    {
     "data": {
      "text/plain": [
       "<kafka.producer.future.FutureRecordMetadata at 0x212529fb6d0>"
      ]
     },
     "execution_count": 13,
     "metadata": {},
     "output_type": "execute_result"
    }
   ],
   "source": [
    "producer.send('demo_testing', value = {'name':'Python code hello'})"
   ]
  },
  {
   "cell_type": "code",
   "execution_count": 15,
   "metadata": {},
   "outputs": [],
   "source": [
    "df = pd.read_csv('TSLA.csv')"
   ]
  },
  {
   "cell_type": "code",
   "execution_count": 16,
   "metadata": {},
   "outputs": [
    {
     "data": {
      "text/html": [
       "<div>\n",
       "<style scoped>\n",
       "    .dataframe tbody tr th:only-of-type {\n",
       "        vertical-align: middle;\n",
       "    }\n",
       "\n",
       "    .dataframe tbody tr th {\n",
       "        vertical-align: top;\n",
       "    }\n",
       "\n",
       "    .dataframe thead th {\n",
       "        text-align: right;\n",
       "    }\n",
       "</style>\n",
       "<table border=\"1\" class=\"dataframe\">\n",
       "  <thead>\n",
       "    <tr style=\"text-align: right;\">\n",
       "      <th></th>\n",
       "      <th>Date</th>\n",
       "      <th>Open</th>\n",
       "      <th>High</th>\n",
       "      <th>Low</th>\n",
       "      <th>Close</th>\n",
       "      <th>Adj Close</th>\n",
       "      <th>Volume</th>\n",
       "    </tr>\n",
       "  </thead>\n",
       "  <tbody>\n",
       "    <tr>\n",
       "      <th>0</th>\n",
       "      <td>01/12/2022</td>\n",
       "      <td>197.080002</td>\n",
       "      <td>198.919998</td>\n",
       "      <td>191.800003</td>\n",
       "      <td>194.699997</td>\n",
       "      <td>194.699997</td>\n",
       "      <td>80046200</td>\n",
       "    </tr>\n",
       "    <tr>\n",
       "      <th>1</th>\n",
       "      <td>02/12/2022</td>\n",
       "      <td>191.779999</td>\n",
       "      <td>196.250000</td>\n",
       "      <td>191.110001</td>\n",
       "      <td>194.860001</td>\n",
       "      <td>194.860001</td>\n",
       "      <td>73645900</td>\n",
       "    </tr>\n",
       "    <tr>\n",
       "      <th>2</th>\n",
       "      <td>05/12/2022</td>\n",
       "      <td>189.440002</td>\n",
       "      <td>191.270004</td>\n",
       "      <td>180.550003</td>\n",
       "      <td>182.449997</td>\n",
       "      <td>182.449997</td>\n",
       "      <td>93122700</td>\n",
       "    </tr>\n",
       "    <tr>\n",
       "      <th>3</th>\n",
       "      <td>06/12/2022</td>\n",
       "      <td>181.220001</td>\n",
       "      <td>183.649994</td>\n",
       "      <td>175.330002</td>\n",
       "      <td>179.820007</td>\n",
       "      <td>179.820007</td>\n",
       "      <td>92150800</td>\n",
       "    </tr>\n",
       "    <tr>\n",
       "      <th>4</th>\n",
       "      <td>07/12/2022</td>\n",
       "      <td>175.029999</td>\n",
       "      <td>179.380005</td>\n",
       "      <td>172.220001</td>\n",
       "      <td>174.039993</td>\n",
       "      <td>174.039993</td>\n",
       "      <td>84213300</td>\n",
       "    </tr>\n",
       "  </tbody>\n",
       "</table>\n",
       "</div>"
      ],
      "text/plain": [
       "         Date        Open        High         Low       Close   Adj Close  \\\n",
       "0  01/12/2022  197.080002  198.919998  191.800003  194.699997  194.699997   \n",
       "1  02/12/2022  191.779999  196.250000  191.110001  194.860001  194.860001   \n",
       "2  05/12/2022  189.440002  191.270004  180.550003  182.449997  182.449997   \n",
       "3  06/12/2022  181.220001  183.649994  175.330002  179.820007  179.820007   \n",
       "4  07/12/2022  175.029999  179.380005  172.220001  174.039993  174.039993   \n",
       "\n",
       "     Volume  \n",
       "0  80046200  \n",
       "1  73645900  \n",
       "2  93122700  \n",
       "3  92150800  \n",
       "4  84213300  "
      ]
     },
     "execution_count": 16,
     "metadata": {},
     "output_type": "execute_result"
    }
   ],
   "source": [
    "df.head()"
   ]
  },
  {
   "cell_type": "code",
   "execution_count": 23,
   "metadata": {},
   "outputs": [
    {
     "data": {
      "text/plain": [
       "{'Date': '13/01/2023',\n",
       " 'Open': 116.550003,\n",
       " 'High': 122.629997,\n",
       " 'Low': 115.599998,\n",
       " 'Close': 122.400002,\n",
       " 'Adj Close': 122.400002,\n",
       " 'Volume': 180439300}"
      ]
     },
     "execution_count": 23,
     "metadata": {},
     "output_type": "execute_result"
    }
   ],
   "source": [
    "df.sample().to_dict(orient='records')[0] #give random sample 1 record"
   ]
  },
  {
   "cell_type": "code",
   "execution_count": null,
   "metadata": {},
   "outputs": [],
   "source": [
    "while True:\n",
    "    dictstock = df.sample().to_dict(orient='records')[0]\n",
    "    producer.send('demo_testing', value = dictstock )\n",
    "    #sleep(1) \n",
    "# Demo run for 5 sec only "
   ]
  },
  {
   "cell_type": "code",
   "execution_count": 35,
   "metadata": {},
   "outputs": [],
   "source": [
    "producer.flush() # delete all records"
   ]
  }
 ],
 "metadata": {
  "kernelspec": {
   "display_name": "Python 3",
   "language": "python",
   "name": "python3"
  },
  "language_info": {
   "codemirror_mode": {
    "name": "ipython",
    "version": 3
   },
   "file_extension": ".py",
   "mimetype": "text/x-python",
   "name": "python",
   "nbconvert_exporter": "python",
   "pygments_lexer": "ipython3",
   "version": "3.9.7"
  },
  "orig_nbformat": 4,
  "vscode": {
   "interpreter": {
    "hash": "b70719c276c095c1d69b27c258cc80cd29270d68b376ded16c29cef6efab505e"
   }
  }
 },
 "nbformat": 4,
 "nbformat_minor": 2
}
